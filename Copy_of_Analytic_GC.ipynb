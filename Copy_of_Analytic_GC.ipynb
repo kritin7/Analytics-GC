{
  "nbformat": 4,
  "nbformat_minor": 0,
  "metadata": {
    "colab": {
      "name": "Copy of Analytic GC.ipynb",
      "provenance": []
    },
    "kernelspec": {
      "name": "python3",
      "display_name": "Python 3"
    },
    "language_info": {
      "name": "python"
    }
  },
  "cells": [
    {
      "cell_type": "code",
      "execution_count": null,
      "metadata": {
        "id": "hASHX0ywOasF"
      },
      "outputs": [],
      "source": [
        ""
      ]
    },
    {
      "cell_type": "markdown",
      "source": [
        "# Importing libraries"
      ],
      "metadata": {
        "id": "5f6zKZ9SKbRh"
      }
    },
    {
      "cell_type": "code",
      "source": [
        "import pandas as pd\n",
        "import numpy as np\n",
        "from sklearn import preprocessing\n",
        "import matplotlib.pyplot as plt \n",
        "plt.rc(\"font\", size=14)\n",
        "from sklearn.linear_model import LogisticRegression\n",
        "from sklearn.model_selection import train_test_split\n",
        "import seaborn as sns\n",
        "sns.set(style=\"white\")\n",
        "sns.set(style=\"whitegrid\", color_codes=True)\n",
        "import datetime\n",
        "from google.colab import files\n",
        "from statsmodels.tsa.arima_model import ARIMA\n",
        "import csv\n"
      ],
      "metadata": {
        "id": "sjcxRxXuuQyq"
      },
      "execution_count": null,
      "outputs": []
    },
    {
      "cell_type": "markdown",
      "source": [
        "# Reading excel file"
      ],
      "metadata": {
        "id": "yvcrVhXjKi72"
      }
    },
    {
      "cell_type": "code",
      "source": [
        "df = pd.read_excel('Extract.xlsx',sheet_name=0)\n",
        "df"
      ],
      "metadata": {
        "colab": {
          "base_uri": "https://localhost:8080/",
          "height": 423
        },
        "id": "AxWAZCc4uqUj",
        "outputId": "78160687-cea9-4b18-d50b-27b02f6b5b27"
      },
      "execution_count": null,
      "outputs": [
        {
          "output_type": "execute_result",
          "data": {
            "text/html": [
              "\n",
              "  <div id=\"df-7d9d8ad3-9715-483c-b3bd-012dc3e77f75\">\n",
              "    <div class=\"colab-df-container\">\n",
              "      <div>\n",
              "<style scoped>\n",
              "    .dataframe tbody tr th:only-of-type {\n",
              "        vertical-align: middle;\n",
              "    }\n",
              "\n",
              "    .dataframe tbody tr th {\n",
              "        vertical-align: top;\n",
              "    }\n",
              "\n",
              "    .dataframe thead th {\n",
              "        text-align: right;\n",
              "    }\n",
              "</style>\n",
              "<table border=\"1\" class=\"dataframe\">\n",
              "  <thead>\n",
              "    <tr style=\"text-align: right;\">\n",
              "      <th></th>\n",
              "      <th>y</th>\n",
              "      <th>x1</th>\n",
              "      <th>x2</th>\n",
              "      <th>x3</th>\n",
              "      <th>x4</th>\n",
              "    </tr>\n",
              "  </thead>\n",
              "  <tbody>\n",
              "    <tr>\n",
              "      <th>0</th>\n",
              "      <td>0.0</td>\n",
              "      <td>3861.22</td>\n",
              "      <td>3861.66</td>\n",
              "      <td>3860.75</td>\n",
              "      <td>3861.38</td>\n",
              "    </tr>\n",
              "    <tr>\n",
              "      <th>1</th>\n",
              "      <td>0.0</td>\n",
              "      <td>3861.19</td>\n",
              "      <td>3861.38</td>\n",
              "      <td>3860.16</td>\n",
              "      <td>3861.25</td>\n",
              "    </tr>\n",
              "    <tr>\n",
              "      <th>2</th>\n",
              "      <td>0.0</td>\n",
              "      <td>3861.38</td>\n",
              "      <td>3861.38</td>\n",
              "      <td>3858.47</td>\n",
              "      <td>3858.53</td>\n",
              "    </tr>\n",
              "    <tr>\n",
              "      <th>3</th>\n",
              "      <td>1.0</td>\n",
              "      <td>3858.72</td>\n",
              "      <td>3858.72</td>\n",
              "      <td>3857.03</td>\n",
              "      <td>3858.19</td>\n",
              "    </tr>\n",
              "    <tr>\n",
              "      <th>4</th>\n",
              "      <td>1.0</td>\n",
              "      <td>3858.09</td>\n",
              "      <td>3859.16</td>\n",
              "      <td>3858.03</td>\n",
              "      <td>3858.81</td>\n",
              "    </tr>\n",
              "    <tr>\n",
              "      <th>...</th>\n",
              "      <td>...</td>\n",
              "      <td>...</td>\n",
              "      <td>...</td>\n",
              "      <td>...</td>\n",
              "      <td>...</td>\n",
              "    </tr>\n",
              "    <tr>\n",
              "      <th>9995</th>\n",
              "      <td>0.0</td>\n",
              "      <td>3794.75</td>\n",
              "      <td>3795.00</td>\n",
              "      <td>3793.75</td>\n",
              "      <td>3794.88</td>\n",
              "    </tr>\n",
              "    <tr>\n",
              "      <th>9996</th>\n",
              "      <td>1.0</td>\n",
              "      <td>3794.78</td>\n",
              "      <td>3795.09</td>\n",
              "      <td>3794.53</td>\n",
              "      <td>3794.72</td>\n",
              "    </tr>\n",
              "    <tr>\n",
              "      <th>9997</th>\n",
              "      <td>0.0</td>\n",
              "      <td>3794.75</td>\n",
              "      <td>3795.09</td>\n",
              "      <td>3794.47</td>\n",
              "      <td>3794.91</td>\n",
              "    </tr>\n",
              "    <tr>\n",
              "      <th>9998</th>\n",
              "      <td>1.0</td>\n",
              "      <td>3794.94</td>\n",
              "      <td>3795.13</td>\n",
              "      <td>3793.38</td>\n",
              "      <td>3794.34</td>\n",
              "    </tr>\n",
              "    <tr>\n",
              "      <th>9999</th>\n",
              "      <td>0.0</td>\n",
              "      <td>3794.31</td>\n",
              "      <td>3794.66</td>\n",
              "      <td>3794.06</td>\n",
              "      <td>3794.47</td>\n",
              "    </tr>\n",
              "  </tbody>\n",
              "</table>\n",
              "<p>10000 rows × 5 columns</p>\n",
              "</div>\n",
              "      <button class=\"colab-df-convert\" onclick=\"convertToInteractive('df-7d9d8ad3-9715-483c-b3bd-012dc3e77f75')\"\n",
              "              title=\"Convert this dataframe to an interactive table.\"\n",
              "              style=\"display:none;\">\n",
              "        \n",
              "  <svg xmlns=\"http://www.w3.org/2000/svg\" height=\"24px\"viewBox=\"0 0 24 24\"\n",
              "       width=\"24px\">\n",
              "    <path d=\"M0 0h24v24H0V0z\" fill=\"none\"/>\n",
              "    <path d=\"M18.56 5.44l.94 2.06.94-2.06 2.06-.94-2.06-.94-.94-2.06-.94 2.06-2.06.94zm-11 1L8.5 8.5l.94-2.06 2.06-.94-2.06-.94L8.5 2.5l-.94 2.06-2.06.94zm10 10l.94 2.06.94-2.06 2.06-.94-2.06-.94-.94-2.06-.94 2.06-2.06.94z\"/><path d=\"M17.41 7.96l-1.37-1.37c-.4-.4-.92-.59-1.43-.59-.52 0-1.04.2-1.43.59L10.3 9.45l-7.72 7.72c-.78.78-.78 2.05 0 2.83L4 21.41c.39.39.9.59 1.41.59.51 0 1.02-.2 1.41-.59l7.78-7.78 2.81-2.81c.8-.78.8-2.07 0-2.86zM5.41 20L4 18.59l7.72-7.72 1.47 1.35L5.41 20z\"/>\n",
              "  </svg>\n",
              "      </button>\n",
              "      \n",
              "  <style>\n",
              "    .colab-df-container {\n",
              "      display:flex;\n",
              "      flex-wrap:wrap;\n",
              "      gap: 12px;\n",
              "    }\n",
              "\n",
              "    .colab-df-convert {\n",
              "      background-color: #E8F0FE;\n",
              "      border: none;\n",
              "      border-radius: 50%;\n",
              "      cursor: pointer;\n",
              "      display: none;\n",
              "      fill: #1967D2;\n",
              "      height: 32px;\n",
              "      padding: 0 0 0 0;\n",
              "      width: 32px;\n",
              "    }\n",
              "\n",
              "    .colab-df-convert:hover {\n",
              "      background-color: #E2EBFA;\n",
              "      box-shadow: 0px 1px 2px rgba(60, 64, 67, 0.3), 0px 1px 3px 1px rgba(60, 64, 67, 0.15);\n",
              "      fill: #174EA6;\n",
              "    }\n",
              "\n",
              "    [theme=dark] .colab-df-convert {\n",
              "      background-color: #3B4455;\n",
              "      fill: #D2E3FC;\n",
              "    }\n",
              "\n",
              "    [theme=dark] .colab-df-convert:hover {\n",
              "      background-color: #434B5C;\n",
              "      box-shadow: 0px 1px 3px 1px rgba(0, 0, 0, 0.15);\n",
              "      filter: drop-shadow(0px 1px 2px rgba(0, 0, 0, 0.3));\n",
              "      fill: #FFFFFF;\n",
              "    }\n",
              "  </style>\n",
              "\n",
              "      <script>\n",
              "        const buttonEl =\n",
              "          document.querySelector('#df-7d9d8ad3-9715-483c-b3bd-012dc3e77f75 button.colab-df-convert');\n",
              "        buttonEl.style.display =\n",
              "          google.colab.kernel.accessAllowed ? 'block' : 'none';\n",
              "\n",
              "        async function convertToInteractive(key) {\n",
              "          const element = document.querySelector('#df-7d9d8ad3-9715-483c-b3bd-012dc3e77f75');\n",
              "          const dataTable =\n",
              "            await google.colab.kernel.invokeFunction('convertToInteractive',\n",
              "                                                     [key], {});\n",
              "          if (!dataTable) return;\n",
              "\n",
              "          const docLinkHtml = 'Like what you see? Visit the ' +\n",
              "            '<a target=\"_blank\" href=https://colab.research.google.com/notebooks/data_table.ipynb>data table notebook</a>'\n",
              "            + ' to learn more about interactive tables.';\n",
              "          element.innerHTML = '';\n",
              "          dataTable['output_type'] = 'display_data';\n",
              "          await google.colab.output.renderOutput(dataTable, element);\n",
              "          const docLink = document.createElement('div');\n",
              "          docLink.innerHTML = docLinkHtml;\n",
              "          element.appendChild(docLink);\n",
              "        }\n",
              "      </script>\n",
              "    </div>\n",
              "  </div>\n",
              "  "
            ],
            "text/plain": [
              "        y       x1       x2       x3       x4\n",
              "0     0.0  3861.22  3861.66  3860.75  3861.38\n",
              "1     0.0  3861.19  3861.38  3860.16  3861.25\n",
              "2     0.0  3861.38  3861.38  3858.47  3858.53\n",
              "3     1.0  3858.72  3858.72  3857.03  3858.19\n",
              "4     1.0  3858.09  3859.16  3858.03  3858.81\n",
              "...   ...      ...      ...      ...      ...\n",
              "9995  0.0  3794.75  3795.00  3793.75  3794.88\n",
              "9996  1.0  3794.78  3795.09  3794.53  3794.72\n",
              "9997  0.0  3794.75  3795.09  3794.47  3794.91\n",
              "9998  1.0  3794.94  3795.13  3793.38  3794.34\n",
              "9999  0.0  3794.31  3794.66  3794.06  3794.47\n",
              "\n",
              "[10000 rows x 5 columns]"
            ]
          },
          "metadata": {},
          "execution_count": 2
        }
      ]
    },
    {
      "cell_type": "markdown",
      "source": [
        "LOGISTIC REGRESSION"
      ],
      "metadata": {
        "id": "p4u_JA9-Ky8T"
      }
    },
    {
      "cell_type": "code",
      "source": [
        "features = ['x1','x2','x3','x4']\n",
        "x, y = df[features], df['y']"
      ],
      "metadata": {
        "id": "2JEytAxCvNQi"
      },
      "execution_count": null,
      "outputs": []
    },
    {
      "cell_type": "code",
      "source": [
        "X_train, X_test, y_train, y_test = train_test_split(x, y, test_size=0.25, shuffle=False )"
      ],
      "metadata": {
        "id": "APy1vG9tkI96"
      },
      "execution_count": null,
      "outputs": []
    },
    {
      "cell_type": "code",
      "source": [
        "clf = LogisticRegression(random_state=0).fit(X_train, y_train)"
      ],
      "metadata": {
        "id": "FMw8Z5n6uHnb"
      },
      "execution_count": null,
      "outputs": []
    },
    {
      "cell_type": "code",
      "source": [
        "y_predict = clf.predict(X_test)"
      ],
      "metadata": {
        "id": "hwItxkG4y8oq"
      },
      "execution_count": null,
      "outputs": []
    },
    {
      "cell_type": "code",
      "source": [
        "clf.score(X_train, y_train)"
      ],
      "metadata": {
        "colab": {
          "base_uri": "https://localhost:8080/"
        },
        "id": "-2fvuRRYzsVY",
        "outputId": "996ba52f-9a32-4648-b52a-79fda37e42d7"
      },
      "execution_count": null,
      "outputs": [
        {
          "output_type": "execute_result",
          "data": {
            "text/plain": [
              "0.5004"
            ]
          },
          "metadata": {},
          "execution_count": 8
        }
      ]
    },
    {
      "cell_type": "code",
      "source": [
        "clf.score(x, y) # logistic regression accuracy"
      ],
      "metadata": {
        "colab": {
          "base_uri": "https://localhost:8080/"
        },
        "id": "bSa54HXZz8aV",
        "outputId": "4d24f3f0-e2b5-47e6-95c2-a89adfe173c9"
      },
      "execution_count": null,
      "outputs": [
        {
          "output_type": "execute_result",
          "data": {
            "text/plain": [
              "0.5039"
            ]
          },
          "metadata": {},
          "execution_count": 9
        }
      ]
    },
    {
      "cell_type": "code",
      "source": [
        "v = [i for i in range(10000)]\n",
        "plt.figure(figsize=(12, 6), dpi=100)\n",
        "plt.plot(df['x4'])\n",
        "#plt.scatter(v, 3700+(df['y']*200), s= 0.01)"
      ],
      "metadata": {
        "colab": {
          "base_uri": "https://localhost:8080/",
          "height": 535
        },
        "id": "gH754CSU0CZS",
        "outputId": "ca5c5a2e-ac80-4dd8-f59c-8f4aca00ad9d"
      },
      "execution_count": null,
      "outputs": [
        {
          "output_type": "execute_result",
          "data": {
            "text/plain": [
              "[<matplotlib.lines.Line2D at 0x7f93304118d0>]"
            ]
          },
          "metadata": {},
          "execution_count": 10
        },
        {
          "output_type": "display_data",
          "data": {
            "image/png": "[encoded data removed]",
            "text/plain": [
              "<Figure size 1200x600 with 1 Axes>"
            ]
          },
          "metadata": {
            "needs_background": "light"
          }
        }
      ]
    },
    {
      "cell_type": "markdown",
      "source": [
        "# Applying ARIMA"
      ],
      "metadata": {
        "id": "LC692EtVLAUJ"
      }
    },
    {
      "cell_type": "code",
      "source": [
        "series = df['x4']\n",
        "model = ARIMA(series, order=(5, 1, 0))\n",
        "model_fit = model.fit(disp=0)\n",
        "print(model_fit.summary())"
      ],
      "metadata": {
        "colab": {
          "base_uri": "https://localhost:8080/"
        },
        "id": "ja28D1iqUDEU",
        "outputId": "27cc5dd2-eb5c-4178-b7eb-8e33976e7033"
      },
      "execution_count": null,
      "outputs": [
        {
          "output_type": "stream",
          "name": "stdout",
          "text": [
            "                             ARIMA Model Results                              \n",
            "==============================================================================\n",
            "Dep. Variable:                   D.x4   No. Observations:                 9999\n",
            "Model:                 ARIMA(5, 1, 0)   Log Likelihood              -18984.756\n",
            "Method:                       css-mle   S.D. of innovations              1.616\n",
            "Date:                Sat, 12 Feb 2022   AIC                          37983.512\n",
            "Time:                        13:29:13   BIC                          38033.983\n",
            "Sample:                             1   HQIC                         38000.596\n",
            "                                                                              \n",
            "==============================================================================\n",
            "                 coef    std err          z      P>|z|      [0.025      0.975]\n",
            "------------------------------------------------------------------------------\n",
            "const         -0.0067      0.016     -0.409      0.682      -0.039       0.025\n",
            "ar.L1.D.x4     0.0307      0.010      3.077      0.002       0.011       0.050\n",
            "ar.L2.D.x4    -0.0295      0.010     -2.952      0.003      -0.049      -0.010\n",
            "ar.L3.D.x4    -0.0158      0.010     -1.578      0.115      -0.035       0.004\n",
            "ar.L4.D.x4    -0.0119      0.010     -1.190      0.234      -0.031       0.008\n",
            "ar.L5.D.x4     0.0364      0.010      3.645      0.000       0.017       0.056\n",
            "                                    Roots                                    \n",
            "=============================================================================\n",
            "                  Real          Imaginary           Modulus         Frequency\n",
            "-----------------------------------------------------------------------------\n",
            "AR.1           -1.5354           -1.1745j            1.9331           -0.3961\n",
            "AR.2           -1.5354           +1.1745j            1.9331            0.3961\n",
            "AR.3            0.6568           -1.7590j            1.8776           -0.1931\n",
            "AR.4            0.6568           +1.7590j            1.8776            0.1931\n",
            "AR.5            2.0838           -0.0000j            2.0838           -0.0000\n",
            "-----------------------------------------------------------------------------\n"
          ]
        }
      ]
    },
    {
      "cell_type": "code",
      "source": [
        "X = series.values\n",
        "size = int(len(X) * 0.66)\n",
        "train, test = X[0:size], X[size:len(X)]\n",
        "history = [x for x in train]\n",
        "predictions = list()\n",
        "for t in range(len(test)):\n",
        "    model = ARIMA(history, order=(5,1,0))\n",
        "    model_fit = model.fit(disp=0)\n",
        "    output = model_fit.forecast()\n",
        "    yhat = output[0]\n",
        "    predictions.append(yhat)\n",
        "    obs = test[t]\n",
        "    history.append(obs)"
      ],
      "metadata": {
        "id": "rf4KgtLGXS1g"
      },
      "execution_count": null,
      "outputs": []
    },
    {
      "cell_type": "code",
      "source": [
        "Tr = X[size:len(X)]\n",
        "plt.figure(figsize=(12, 6), dpi=100)\n",
        "#plt.plot(predictions)\n",
        "diff = [Tr[i]-predictions[i][0] for i in range(len(Tr))]\n",
        "plt.plot(diff)"
      ],
      "metadata": {
        "id": "SpelgAhNZMa5"
      },
      "execution_count": null,
      "outputs": []
    },
    {
      "cell_type": "code",
      "source": [
        "#y_pr = [1 for i in range(len(predictions)-1) if predictions[i+1][0]>=Tr[i] else 0]\n",
        "y_or1 = df['y'].values[size:len(X)-1]\n",
        "y_pr = []\n",
        "y_or = []\n",
        "c = 0.1\n",
        "for i in range(len(predictions)-1):\n",
        "  if (predictions[i+1][0]>=Tr[i]+c) or (predictions[i+1][0]<=Tr[i]-c): \n",
        "    if predictions[i+1][0]>=Tr[i]:\n",
        "      y_pr.append(1)\n",
        "    else:\n",
        "      y_pr.append(0)\n",
        "    y_or.append(y_or1[i])\n",
        "len(y_pr)"
      ],
      "metadata": {
        "id": "BpcOifDDd8ay"
      },
      "execution_count": null,
      "outputs": []
    },
    {
      "cell_type": "code",
      "source": [
        "ans = 0\n",
        "for i in range(len(y_pr)-1):\n",
        "  if y_or[i]==y_pr[i]:\n",
        "    ans = ans + 1\n",
        "ans =  ans/len(y_or)\n"
      ],
      "metadata": {
        "id": "JdY7yq3KltkH"
      },
      "execution_count": null,
      "outputs": []
    },
    {
      "cell_type": "code",
      "source": [
        "ans"
      ],
      "metadata": {
        "colab": {
          "base_uri": "https://localhost:8080/"
        },
        "id": "v7aEb-Gamk4v",
        "outputId": "18314950-ff79-4b9f-8c13-fe69bb2ab682"
      },
      "execution_count": null,
      "outputs": [
        {
          "output_type": "execute_result",
          "data": {
            "text/plain": [
              "0.5491990846681922"
            ]
          },
          "metadata": {},
          "execution_count": 93
        }
      ]
    },
    {
      "cell_type": "markdown",
      "source": [
        "Applying ARIMA on test set"
      ],
      "metadata": {
        "id": "BcZrFx5-HxBR"
      }
    },
    {
      "cell_type": "code",
      "source": [
        "test = pd.read_excel('test.xlsx',sheet_name=0)"
      ],
      "metadata": {
        "id": "Dwy0wzbioz4W"
      },
      "execution_count": null,
      "outputs": []
    },
    {
      "cell_type": "code",
      "source": [
        "test"
      ],
      "metadata": {
        "colab": {
          "base_uri": "https://localhost:8080/",
          "height": 423
        },
        "id": "eeF6nJDQIWlL",
        "outputId": "e029653d-d877-4e0d-b877-cd43d64bf9cf"
      },
      "execution_count": null,
      "outputs": [
        {
          "output_type": "execute_result",
          "data": {
            "text/html": [
              "\n",
              "  <div id=\"df-1d9b66b4-9b6b-45fe-8f44-60a9d3d02043\">\n",
              "    <div class=\"colab-df-container\">\n",
              "      <div>\n",
              "<style scoped>\n",
              "    .dataframe tbody tr th:only-of-type {\n",
              "        vertical-align: middle;\n",
              "    }\n",
              "\n",
              "    .dataframe tbody tr th {\n",
              "        vertical-align: top;\n",
              "    }\n",
              "\n",
              "    .dataframe thead th {\n",
              "        text-align: right;\n",
              "    }\n",
              "</style>\n",
              "<table border=\"1\" class=\"dataframe\">\n",
              "  <thead>\n",
              "    <tr style=\"text-align: right;\">\n",
              "      <th></th>\n",
              "      <th>x1</th>\n",
              "      <th>x2</th>\n",
              "      <th>x3</th>\n",
              "      <th>x4</th>\n",
              "    </tr>\n",
              "  </thead>\n",
              "  <tbody>\n",
              "    <tr>\n",
              "      <th>0</th>\n",
              "      <td>3798.66</td>\n",
              "      <td>3798.84</td>\n",
              "      <td>3798.09</td>\n",
              "      <td>3798.16</td>\n",
              "    </tr>\n",
              "    <tr>\n",
              "      <th>1</th>\n",
              "      <td>3798.22</td>\n",
              "      <td>3798.78</td>\n",
              "      <td>3798.13</td>\n",
              "      <td>3798.53</td>\n",
              "    </tr>\n",
              "    <tr>\n",
              "      <th>2</th>\n",
              "      <td>3798.50</td>\n",
              "      <td>3799.06</td>\n",
              "      <td>3798.28</td>\n",
              "      <td>3798.28</td>\n",
              "    </tr>\n",
              "    <tr>\n",
              "      <th>3</th>\n",
              "      <td>3798.31</td>\n",
              "      <td>3798.41</td>\n",
              "      <td>3797.53</td>\n",
              "      <td>3798.06</td>\n",
              "    </tr>\n",
              "    <tr>\n",
              "      <th>4</th>\n",
              "      <td>3797.94</td>\n",
              "      <td>3798.78</td>\n",
              "      <td>3797.84</td>\n",
              "      <td>3798.75</td>\n",
              "    </tr>\n",
              "    <tr>\n",
              "      <th>...</th>\n",
              "      <td>...</td>\n",
              "      <td>...</td>\n",
              "      <td>...</td>\n",
              "      <td>...</td>\n",
              "    </tr>\n",
              "    <tr>\n",
              "      <th>995</th>\n",
              "      <td>3749.84</td>\n",
              "      <td>3750.09</td>\n",
              "      <td>3749.44</td>\n",
              "      <td>3749.75</td>\n",
              "    </tr>\n",
              "    <tr>\n",
              "      <th>996</th>\n",
              "      <td>3749.88</td>\n",
              "      <td>3749.88</td>\n",
              "      <td>3749.03</td>\n",
              "      <td>3749.25</td>\n",
              "    </tr>\n",
              "    <tr>\n",
              "      <th>997</th>\n",
              "      <td>3749.31</td>\n",
              "      <td>3749.38</td>\n",
              "      <td>3746.63</td>\n",
              "      <td>3746.81</td>\n",
              "    </tr>\n",
              "    <tr>\n",
              "      <th>998</th>\n",
              "      <td>3747.03</td>\n",
              "      <td>3747.28</td>\n",
              "      <td>3746.00</td>\n",
              "      <td>3746.31</td>\n",
              "    </tr>\n",
              "    <tr>\n",
              "      <th>999</th>\n",
              "      <td>3745.97</td>\n",
              "      <td>3746.50</td>\n",
              "      <td>3744.81</td>\n",
              "      <td>3744.88</td>\n",
              "    </tr>\n",
              "  </tbody>\n",
              "</table>\n",
              "<p>1000 rows × 4 columns</p>\n",
              "</div>\n",
              "      <button class=\"colab-df-convert\" onclick=\"convertToInteractive('df-1d9b66b4-9b6b-45fe-8f44-60a9d3d02043')\"\n",
              "              title=\"Convert this dataframe to an interactive table.\"\n",
              "              style=\"display:none;\">\n",
              "        \n",
              "  <svg xmlns=\"http://www.w3.org/2000/svg\" height=\"24px\"viewBox=\"0 0 24 24\"\n",
              "       width=\"24px\">\n",
              "    <path d=\"M0 0h24v24H0V0z\" fill=\"none\"/>\n",
              "    <path d=\"M18.56 5.44l.94 2.06.94-2.06 2.06-.94-2.06-.94-.94-2.06-.94 2.06-2.06.94zm-11 1L8.5 8.5l.94-2.06 2.06-.94-2.06-.94L8.5 2.5l-.94 2.06-2.06.94zm10 10l.94 2.06.94-2.06 2.06-.94-2.06-.94-.94-2.06-.94 2.06-2.06.94z\"/><path d=\"M17.41 7.96l-1.37-1.37c-.4-.4-.92-.59-1.43-.59-.52 0-1.04.2-1.43.59L10.3 9.45l-7.72 7.72c-.78.78-.78 2.05 0 2.83L4 21.41c.39.39.9.59 1.41.59.51 0 1.02-.2 1.41-.59l7.78-7.78 2.81-2.81c.8-.78.8-2.07 0-2.86zM5.41 20L4 18.59l7.72-7.72 1.47 1.35L5.41 20z\"/>\n",
              "  </svg>\n",
              "      </button>\n",
              "      \n",
              "  <style>\n",
              "    .colab-df-container {\n",
              "      display:flex;\n",
              "      flex-wrap:wrap;\n",
              "      gap: 12px;\n",
              "    }\n",
              "\n",
              "    .colab-df-convert {\n",
              "      background-color: #E8F0FE;\n",
              "      border: none;\n",
              "      border-radius: 50%;\n",
              "      cursor: pointer;\n",
              "      display: none;\n",
              "      fill: #1967D2;\n",
              "      height: 32px;\n",
              "      padding: 0 0 0 0;\n",
              "      width: 32px;\n",
              "    }\n",
              "\n",
              "    .colab-df-convert:hover {\n",
              "      background-color: #E2EBFA;\n",
              "      box-shadow: 0px 1px 2px rgba(60, 64, 67, 0.3), 0px 1px 3px 1px rgba(60, 64, 67, 0.15);\n",
              "      fill: #174EA6;\n",
              "    }\n",
              "\n",
              "    [theme=dark] .colab-df-convert {\n",
              "      background-color: #3B4455;\n",
              "      fill: #D2E3FC;\n",
              "    }\n",
              "\n",
              "    [theme=dark] .colab-df-convert:hover {\n",
              "      background-color: #434B5C;\n",
              "      box-shadow: 0px 1px 3px 1px rgba(0, 0, 0, 0.15);\n",
              "      filter: drop-shadow(0px 1px 2px rgba(0, 0, 0, 0.3));\n",
              "      fill: #FFFFFF;\n",
              "    }\n",
              "  </style>\n",
              "\n",
              "      <script>\n",
              "        const buttonEl =\n",
              "          document.querySelector('#df-1d9b66b4-9b6b-45fe-8f44-60a9d3d02043 button.colab-df-convert');\n",
              "        buttonEl.style.display =\n",
              "          google.colab.kernel.accessAllowed ? 'block' : 'none';\n",
              "\n",
              "        async function convertToInteractive(key) {\n",
              "          const element = document.querySelector('#df-1d9b66b4-9b6b-45fe-8f44-60a9d3d02043');\n",
              "          const dataTable =\n",
              "            await google.colab.kernel.invokeFunction('convertToInteractive',\n",
              "                                                     [key], {});\n",
              "          if (!dataTable) return;\n",
              "\n",
              "          const docLinkHtml = 'Like what you see? Visit the ' +\n",
              "            '<a target=\"_blank\" href=https://colab.research.google.com/notebooks/data_table.ipynb>data table notebook</a>'\n",
              "            + ' to learn more about interactive tables.';\n",
              "          element.innerHTML = '';\n",
              "          dataTable['output_type'] = 'display_data';\n",
              "          await google.colab.output.renderOutput(dataTable, element);\n",
              "          const docLink = document.createElement('div');\n",
              "          docLink.innerHTML = docLinkHtml;\n",
              "          element.appendChild(docLink);\n",
              "        }\n",
              "      </script>\n",
              "    </div>\n",
              "  </div>\n",
              "  "
            ],
            "text/plain": [
              "          x1       x2       x3       x4\n",
              "0    3798.66  3798.84  3798.09  3798.16\n",
              "1    3798.22  3798.78  3798.13  3798.53\n",
              "2    3798.50  3799.06  3798.28  3798.28\n",
              "3    3798.31  3798.41  3797.53  3798.06\n",
              "4    3797.94  3798.78  3797.84  3798.75\n",
              "..       ...      ...      ...      ...\n",
              "995  3749.84  3750.09  3749.44  3749.75\n",
              "996  3749.88  3749.88  3749.03  3749.25\n",
              "997  3749.31  3749.38  3746.63  3746.81\n",
              "998  3747.03  3747.28  3746.00  3746.31\n",
              "999  3745.97  3746.50  3744.81  3744.88\n",
              "\n",
              "[1000 rows x 4 columns]"
            ]
          },
          "metadata": {},
          "execution_count": 10
        }
      ]
    },
    {
      "cell_type": "code",
      "source": [
        "test_label = []\n",
        "for i in range(len(test['x4'])-1):\n",
        "  if test['x4'][i]>=test['x4'][i+1]:\n",
        "    test_label.append(0)\n",
        "  else: test_label.append(1)\n"
      ],
      "metadata": {
        "id": "9eliREBOIX5I"
      },
      "execution_count": null,
      "outputs": []
    },
    {
      "cell_type": "code",
      "source": [
        "plt.figure(figsize=(10, 7), dpi=80)\n",
        " \n",
        "plt.plot(test['x4'])"
      ],
      "metadata": {
        "colab": {
          "base_uri": "https://localhost:8080/",
          "height": 496
        },
        "id": "O-a10ftKJ6nv",
        "outputId": "3ba5f467-926f-4f82-ebb4-2e332faf7281"
      },
      "execution_count": null,
      "outputs": [
        {
          "output_type": "execute_result",
          "data": {
            "text/plain": [
              "[<matplotlib.lines.Line2D at 0x7f1b53b161d0>]"
            ]
          },
          "metadata": {},
          "execution_count": 12
        },
        {
          "output_type": "display_data",
          "data": {
            "image/png": "[encoded data removed]",
            "text/plain": [
              "<Figure size 800x560 with 1 Axes>"
            ]
          },
          "metadata": {}
        }
      ]
    },
    {
      "cell_type": "code",
      "source": [
        "series = test['x4']\n",
        "X = series.values\n",
        "size = int(len(X) * 0.5)\n",
        "train, test = X[0:size], X[size:len(X)]\n",
        "history = [x for x in train]\n",
        "predictions = list()\n",
        "for t in range(len(test)):\n",
        "    model = ARIMA(history, order=(5,1,0))\n",
        "    model_fit = model.fit(disp=0)\n",
        "    output = model_fit.forecast()\n",
        "    yhat = output[0]\n",
        "    predictions.append(yhat)\n",
        "    obs = test[t]\n",
        "    history.append(obs)"
      ],
      "metadata": {
        "id": "0Olo7N7mJ-h0"
      },
      "execution_count": null,
      "outputs": []
    },
    {
      "cell_type": "markdown",
      "source": [
        "Calculating accuracy"
      ],
      "metadata": {
        "id": "rxKF-WqoLkBm"
      }
    },
    {
      "cell_type": "code",
      "source": [
        "Tr = X[size:len(X)]\n",
        "y_or1 = test_label[size:len(X)-1]\n",
        "y_pr = []\n",
        "y_or = []\n",
        "c = 0\n",
        "for i in range(len(predictions)-1):\n",
        "  if (predictions[i+1][0]>=Tr[i]+c) or (predictions[i+1][0]<=Tr[i]-c): \n",
        "    if predictions[i+1][0]>=Tr[i]:\n",
        "      y_pr.append(1)\n",
        "    else:\n",
        "      y_pr.append(0)\n",
        "    y_or.append(y_or1[i])\n",
        "len(y_pr)"
      ],
      "metadata": {
        "colab": {
          "base_uri": "https://localhost:8080/"
        },
        "id": "tv5RMY29P8Jl",
        "outputId": "ef001cd1-20fa-4137-a22d-9238d4b55625"
      },
      "execution_count": null,
      "outputs": [
        {
          "output_type": "execute_result",
          "data": {
            "text/plain": [
              "499"
            ]
          },
          "metadata": {},
          "execution_count": 30
        }
      ]
    },
    {
      "cell_type": "code",
      "source": [
        "ans = 0\n",
        "for i in range(len(y_pr)-1):\n",
        "  if y_or[i]==y_pr[i]:\n",
        "    ans = ans + 1\n",
        "ans =  ans/len(y_or)\n",
        "print(len(y_or))            # Number of test cases used\n",
        "ans                         # Final accuracy\n"
      ],
      "metadata": {
        "colab": {
          "base_uri": "https://localhost:8080/"
        },
        "id": "UuNPR1UfUHPc",
        "outputId": "e9eb35d1-b1fc-4386-ec63-7a75d52b9c91"
      },
      "execution_count": null,
      "outputs": [
        {
          "output_type": "stream",
          "name": "stdout",
          "text": [
            "499\n"
          ]
        },
        {
          "output_type": "execute_result",
          "data": {
            "text/plain": [
              "0.5751503006012024"
            ]
          },
          "metadata": {},
          "execution_count": 31
        }
      ]
    },
    {
      "cell_type": "markdown",
      "source": [
        "Writing csv file"
      ],
      "metadata": {
        "id": "lIYnTavDLaqp"
      }
    },
    {
      "cell_type": "code",
      "source": [
        "def extractDigits(lst):\n",
        "    return list(map(lambda el:[el], lst))\n",
        "      \n",
        "              \n",
        "\n",
        "rows = extractDigits(y_pr)"
      ],
      "metadata": {
        "id": "ADo-IL1wJDmz"
      },
      "execution_count": null,
      "outputs": []
    },
    {
      "cell_type": "code",
      "source": [
        "\n",
        "field = ['y'] \n",
        "\n",
        "    \n",
        "\n",
        "filename = \"last_500_points.csv\"\n",
        "    \n",
        "# writing to csv file \n",
        "with open(filename, 'w') as csvfile: \n",
        "    # creating a csv writer object \n",
        "    csvwriter = csv.writer(csvfile) \n",
        "        \n",
        "    # writing the fields \n",
        "    csvwriter.writerow(field) \n",
        "        \n",
        "    # writing the data rows \n",
        "    csvwriter.writerows(rows)\n"
      ],
      "metadata": {
        "id": "5h_1yEd-UXbn"
      },
      "execution_count": null,
      "outputs": []
    }
  ]
}